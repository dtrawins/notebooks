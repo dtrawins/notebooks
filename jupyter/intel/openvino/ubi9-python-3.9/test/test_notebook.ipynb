{
 "cells": [
  {
   "cell_type": "code",
   "execution_count": null,
   "metadata": {
    "tags": []
   },
   "outputs": [],
   "source": [
    "import unittest\n",
    "import openvino\n",
    "import torchvision\n",
    "from platform import python_version\n",
    "\n",
    "class TestTensorflowNotebook(unittest.TestCase):\n",
    "    \n",
    "    def test_python_version(self):\n",
    "        expected_major_minor = '3.9'  # Set the expected version (x.y)\n",
    "        actual_major_minor = '.'.join(python_version().split('.')[:2]) \n",
    "        self.assertEqual(actual_major_minor, expected_major_minor, \"incorrect version\")\n",
    "    \n",
    "    def test_openvino_version(self):\n",
    "        expected_major_minor = '2024.0'  # Set the expected version (x.y)\n",
    "        actual_major_minor = '.'.join(openvino.get_version().split('.')[:2]) \n",
    "        self.assertEqual(actual_major_minor, expected_major_minor, \"incorrect version\")\n",
    "    \n",
    "    def test_itex_version(self):\n",
    "        expected_major_minor = '2.14'  # Set the expected version (x.y)\n",
    "        actual_major_minor = '.'.join(itex.__version__.split('.')[:2]) \n",
    "        self.assertEqual(actual_major_minor, expected_major_minor, \"incorrect version\")\n",
    "        \n",
    "    def test_torch2ov_conversion(self):\n",
    "        # Replace this with an actual TensorFlow model conversion using tf2onnx\n",
    "        weights = torchvision.models.RegNet_Y_800MF_Weights.DEFAULT\n",
    "        model = torchvision.models.regnet_y_800mf(weights=weights)\n",
    "        ov_model = openvino.convert_model(model)\n",
    "        self.assertTrue(model is not None)\n",
    "        self.assertTrue(ov_model is not None)\n",
    "\n",
    "       \n",
    "suite = unittest.TestLoader().loadTestsFromTestCase(TestTensorflowNotebook)\n",
    "unittest.TextTestRunner().run(suite)\n"
   ]
  },
  {
   "cell_type": "code",
   "execution_count": null,
   "metadata": {},
   "outputs": [],
   "source": []
  }
 ],
 "metadata": {
  "kernelspec": {
   "display_name": "tensorflow-gpu",
   "language": "python",
   "name": "python3"
  },
  "language_info": {
   "codemirror_mode": {
    "name": "ipython",
    "version": 3
   },
   "file_extension": ".py",
   "mimetype": "text/x-python",
   "name": "python",
   "nbconvert_exporter": "python",
   "pygments_lexer": "ipython3",
   "version": "3.9.18"
  }
 },
 "nbformat": 4,
 "nbformat_minor": 4
}
